{
  "nbformat": 4,
  "nbformat_minor": 0,
  "metadata": {
    "colab": {
      "provenance": []
    },
    "kernelspec": {
      "name": "python3",
      "display_name": "Python 3"
    },
    "language_info": {
      "name": "python"
    }
  },
  "cells": [
    {
      "cell_type": "markdown",
      "source": [
        "#**SPACESHIP TITANIC COMPETITION**\n",
        "\n",
        "Data Source: https://www.kaggle.com/competitions/spaceship-titanic/code"
      ],
      "metadata": {
        "id": "juismNDDJYr3"
      }
    },
    {
      "cell_type": "code",
      "execution_count": 1,
      "metadata": {
        "id": "25zJ0gUNWAjO",
        "colab": {
          "base_uri": "https://localhost:8080/"
        },
        "outputId": "54d15602-2a08-4ba0-beaa-ae19a731d915"
      },
      "outputs": [
        {
          "output_type": "stream",
          "name": "stdout",
          "text": [
            "Algorithm Stacking Classifer's Accuracy >>> 0.7978824473455638\n"
          ]
        }
      ],
      "source": [
        "import numpy as np\n",
        "import pandas as pd\n",
        "import matplotlib.pyplot as plt\n",
        "import seaborn as sns\n",
        "from sklearn.preprocessing import LabelEncoder, MinMaxScaler\n",
        "from sklearn.impute import SimpleImputer\n",
        "from sklearn.model_selection import train_test_split\n",
        "from sklearn.ensemble import RandomForestClassifier\n",
        "from sklearn.linear_model import LogisticRegression\n",
        "from sklearn.svm import SVC\n",
        "from sklearn.neighbors import KNeighborsClassifier\n",
        "from sklearn.metrics import accuracy_score\n",
        "from sklearn.model_selection import GridSearchCV\n",
        "from xgboost import XGBClassifier\n",
        "import lightgbm as lgbm\n",
        "from sklearn.ensemble import StackingClassifier\n",
        "from sklearn.model_selection import cross_val_score\n",
        "from sklearn.model_selection import RepeatedStratifiedKFold\n",
        "\n",
        "\n",
        "def datacleaning(train_path, test_path):\n",
        "  train = pd.read_csv(train_path)\n",
        "  test = pd.read_csv(test_path)\n",
        "\n",
        "  #Dropping the unnecessary columns from training and testing dataset\n",
        "  train1 = train.drop(['PassengerId', 'Cabin', 'Name'], axis=1)\n",
        "  test1 = test.drop(['PassengerId', 'Cabin', 'Name'], axis=1)\n",
        "\n",
        "  #Encoding the categorical features to convert them into numerical features\n",
        "  le = LabelEncoder()\n",
        "  columns_to_convert_tr = ['HomePlanet', 'CryoSleep', 'Destination', 'VIP', 'Transported']\n",
        "  columns_to_convert_ts = ['HomePlanet', 'CryoSleep', 'Destination', 'VIP']\n",
        "\n",
        "  for i in columns_to_convert_tr:\n",
        "    train1[i] = le.fit_transform(train[i])\n",
        "\n",
        "  for j in columns_to_convert_ts:\n",
        "    test1[j] = le.fit_transform(test1[j])\n",
        "\n",
        "  #Imputing the missing values in the columns with the mean of the columns\n",
        "  impute = SimpleImputer(strategy='mean')\n",
        "  cols_to_impute = ['Age', 'RoomService', 'FoodCourt', 'ShoppingMall', 'Spa', 'VRDeck']\n",
        "\n",
        "  train1[cols_to_impute] = impute.fit_transform(train1[cols_to_impute])\n",
        "  test1[cols_to_impute] = impute.transform(test1[cols_to_impute])\n",
        "\n",
        "  #Scaling the columns with large data values\n",
        "  scaler = MinMaxScaler()\n",
        "  cols_to_scale = ['Age', 'RoomService', 'FoodCourt', 'ShoppingMall', 'Spa', 'VRDeck']\n",
        "\n",
        "  train1[cols_to_scale] = scaler.fit_transform(train1[cols_to_scale])\n",
        "  test1[cols_to_scale] = scaler.transform(test1[cols_to_scale])\n",
        "\n",
        "  #splitting the training data into train test split\n",
        "  X = train1.drop(['Transported'], axis=1)\n",
        "  y = train1['Transported']\n",
        "\n",
        "  #X_train, X_test, y_train, y_test = train_test_split(X, y, test_size=0.2, random_state=69)\n",
        "\n",
        "  return X, y, test1\n",
        "\n",
        "\n",
        "def evaluate_model(model, X, y):\n",
        "    cv = RepeatedStratifiedKFold(n_splits=10, n_repeats=3, random_state=69)\n",
        "    scores = cross_val_score(model, X, y, scoring='accuracy', cv=cv, n_jobs=-1, error_score='raise')\n",
        "    return scores\n",
        "\n",
        "\n",
        "def main():\n",
        "  train_path = '/content/train_space.csv'\n",
        "  test_path = '/content/test_space.csv'\n",
        "\n",
        "  X, y, test1 = datacleaning(train_path, test_path)\n",
        "\n",
        "  rf = RandomForestClassifier(n_estimators=100, max_features='sqrt', max_depth=8, min_samples_split=10, bootstrap=True)\n",
        "  lr = LogisticRegression(C=10, penalty='l2')\n",
        "  svm = SVC(C=10, kernel='linear')\n",
        "  xgb = XGBClassifier()\n",
        "  lgb = lgbm.LGBMClassifier(num_leaves=15, max_depth=-1, random_state=1, silent=True, metric='None',\n",
        "                                  n_jobs=4, n_estimators=1000, max_iter=10, colsample_bytree=0.9, subsample=0.9, learning_rate=0.1)\n",
        "\n",
        "  estimators = [('rf',rf), ('lr',lr),('svm',svm),('xgb',xgb),('lgb',lgb)]\n",
        "\n",
        "  stacking_model = StackingClassifier(estimators=estimators,\n",
        "                                      final_estimator= lr,\n",
        "                                      cv=5)\n",
        "\n",
        "  algo = 'Stacking Classifer'\n",
        "  scores = evaluate_model(stacking_model, X, y)\n",
        "  print(f\"Algorithm {algo}'s Accuracy >>> {np.mean(scores)}\")\n",
        "\n",
        "\n",
        "if __name__ == \"__main__\":\n",
        "    main()"
      ]
    }
  ]
}