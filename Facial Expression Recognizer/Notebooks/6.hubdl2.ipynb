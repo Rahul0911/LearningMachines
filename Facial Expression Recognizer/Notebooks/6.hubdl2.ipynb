{
 "cells": [
  {
   "cell_type": "code",
   "execution_count": 1,
   "id": "7b2cf43e",
   "metadata": {
    "_cell_guid": "b1076dfc-b9ad-4769-8c92-a6c4dae69d19",
    "_uuid": "8f2839f25d086af736a60e9eeb907d3b93b6e0e5",
    "execution": {
     "iopub.execute_input": "2024-03-19T21:40:39.062902Z",
     "iopub.status.busy": "2024-03-19T21:40:39.062227Z",
     "iopub.status.idle": "2024-03-19T21:40:55.314314Z",
     "shell.execute_reply": "2024-03-19T21:40:55.313234Z"
    },
    "papermill": {
     "duration": 16.262006,
     "end_time": "2024-03-19T21:40:55.317320",
     "exception": false,
     "start_time": "2024-03-19T21:40:39.055314",
     "status": "completed"
    },
    "tags": []
   },
   "outputs": [
    {
     "name": "stderr",
     "output_type": "stream",
     "text": [
      "2024-03-19 21:40:41.502974: E external/local_xla/xla/stream_executor/cuda/cuda_dnn.cc:9261] Unable to register cuDNN factory: Attempting to register factory for plugin cuDNN when one has already been registered\n",
      "2024-03-19 21:40:41.503176: E external/local_xla/xla/stream_executor/cuda/cuda_fft.cc:607] Unable to register cuFFT factory: Attempting to register factory for plugin cuFFT when one has already been registered\n",
      "2024-03-19 21:40:41.690363: E external/local_xla/xla/stream_executor/cuda/cuda_blas.cc:1515] Unable to register cuBLAS factory: Attempting to register factory for plugin cuBLAS when one has already been registered\n"
     ]
    }
   ],
   "source": [
    "import matplotlib.pyplot as plt\n",
    "import numpy as np\n",
    "import os\n",
    "import tensorflow as tf\n",
    "\n",
    "from sklearn.model_selection import train_test_split\n",
    "\n",
    "import shutil\n",
    "\n",
    "from tensorflow.keras.layers import Dropout\n",
    "from tensorflow.keras.preprocessing.image import ImageDataGenerator"
   ]
  },
  {
   "cell_type": "code",
   "execution_count": 2,
   "id": "21f76b7b",
   "metadata": {
    "execution": {
     "iopub.execute_input": "2024-03-19T21:40:55.329889Z",
     "iopub.status.busy": "2024-03-19T21:40:55.329220Z",
     "iopub.status.idle": "2024-03-19T21:40:55.333826Z",
     "shell.execute_reply": "2024-03-19T21:40:55.332709Z"
    },
    "papermill": {
     "duration": 0.01316,
     "end_time": "2024-03-19T21:40:55.335973",
     "exception": false,
     "start_time": "2024-03-19T21:40:55.322813",
     "status": "completed"
    },
    "tags": []
   },
   "outputs": [],
   "source": [
    "# !kaggle datasets download -d robertmk94/deeplearning"
   ]
  },
  {
   "cell_type": "code",
   "execution_count": 3,
   "id": "d9974660",
   "metadata": {
    "execution": {
     "iopub.execute_input": "2024-03-19T21:40:55.347893Z",
     "iopub.status.busy": "2024-03-19T21:40:55.347509Z",
     "iopub.status.idle": "2024-03-19T21:40:55.380020Z",
     "shell.execute_reply": "2024-03-19T21:40:55.378776Z"
    },
    "papermill": {
     "duration": 0.041351,
     "end_time": "2024-03-19T21:40:55.382444",
     "exception": false,
     "start_time": "2024-03-19T21:40:55.341093",
     "status": "completed"
    },
    "tags": []
   },
   "outputs": [
    {
     "name": "stdout",
     "output_type": "stream",
     "text": [
      "Image Width: 48\n",
      "Image Height: 48\n"
     ]
    }
   ],
   "source": [
    "# Extra cell to check the image size\n",
    "\n",
    "from PIL import Image\n",
    "\n",
    "example_image_path = \"/kaggle/input/deeplearning/augmented/all_data/angry/angry_im0000.png\"\n",
    "\n",
    "with Image.open(example_image_path) as img:\n",
    "    image_width, image_height = img.size\n",
    "\n",
    "print(\"Image Width:\", image_width)\n",
    "print(\"Image Height:\", image_height)"
   ]
  },
  {
   "cell_type": "code",
   "execution_count": 4,
   "id": "12324d56",
   "metadata": {
    "execution": {
     "iopub.execute_input": "2024-03-19T21:40:55.394938Z",
     "iopub.status.busy": "2024-03-19T21:40:55.394190Z",
     "iopub.status.idle": "2024-03-19T21:41:44.785718Z",
     "shell.execute_reply": "2024-03-19T21:41:44.784314Z"
    },
    "papermill": {
     "duration": 49.401135,
     "end_time": "2024-03-19T21:41:44.788773",
     "exception": false,
     "start_time": "2024-03-19T21:40:55.387638",
     "status": "completed"
    },
    "tags": []
   },
   "outputs": [
    {
     "name": "stdout",
     "output_type": "stream",
     "text": [
      "Found 28755 images belonging to 6 classes.\n",
      "Found 7185 images belonging to 6 classes.\n"
     ]
    }
   ],
   "source": [
    "BATCH_SIZE = 128\n",
    "IMG_SIZE = (48, 48)\n",
    "\n",
    "EPOCHS = 20 # EPOCHS\n",
    "EARLY_STOP = 10 # SET THE EARLY STOP NUMBER FOR CALLBACK\n",
    "SUBSET_FRACT = 1 # SCALES THE BATCH SIZE, (ex: 128 * 0.5 = 256, batch size = 256)\n",
    "\n",
    "# Initialize\n",
    "datagen = ImageDataGenerator(validation_split=0.2)\n",
    "data_dir = '/kaggle/input/deeplearning/augmented/all_data'\n",
    "\n",
    "# Prepare Generators\n",
    "train_generator = datagen.flow_from_directory(\n",
    "    data_dir,\n",
    "    target_size=(48, 48),\n",
    "    batch_size=int(BATCH_SIZE * SUBSET_FRACT),  # Adjusted batch size\n",
    "    class_mode='categorical',\n",
    "    subset='training',\n",
    "    shuffle=True,\n",
    "    seed=42\n",
    ")\n",
    "\n",
    "validation_generator = datagen.flow_from_directory(\n",
    "    data_dir,\n",
    "    target_size=(48, 48),\n",
    "    batch_size=int(BATCH_SIZE * SUBSET_FRACT),  # Adjusted batch size\n",
    "    class_mode='categorical',\n",
    "    subset='validation',\n",
    "    shuffle=True,\n",
    "    seed=42\n",
    ")"
   ]
  },
  {
   "cell_type": "markdown",
   "id": "1aa860f7",
   "metadata": {
    "papermill": {
     "duration": 0.005246,
     "end_time": "2024-03-19T21:41:44.800336",
     "exception": false,
     "start_time": "2024-03-19T21:41:44.795090",
     "status": "completed"
    },
    "tags": []
   },
   "source": [
    "### Visualizing Data"
   ]
  },
  {
   "cell_type": "code",
   "execution_count": 5,
   "id": "84fa0fcd",
   "metadata": {
    "execution": {
     "iopub.execute_input": "2024-03-19T21:41:44.812869Z",
     "iopub.status.busy": "2024-03-19T21:41:44.812021Z",
     "iopub.status.idle": "2024-03-19T21:41:44.819478Z",
     "shell.execute_reply": "2024-03-19T21:41:44.818659Z"
    },
    "papermill": {
     "duration": 0.015943,
     "end_time": "2024-03-19T21:41:44.821456",
     "exception": false,
     "start_time": "2024-03-19T21:41:44.805513",
     "status": "completed"
    },
    "tags": []
   },
   "outputs": [
    {
     "data": {
      "text/plain": [
       "{0: 'angry', 1: 'fearful', 2: 'happy', 3: 'neutral', 4: 'sad', 5: 'surprised'}"
      ]
     },
     "execution_count": 5,
     "metadata": {},
     "output_type": "execute_result"
    }
   ],
   "source": [
    "class_indices = train_generator.class_indices\n",
    "class_names = dict((v, k) for k, v in class_indices.items())\n",
    "class_names"
   ]
  },
  {
   "cell_type": "code",
   "execution_count": 6,
   "id": "21efdb43",
   "metadata": {
    "execution": {
     "iopub.execute_input": "2024-03-19T21:41:44.834262Z",
     "iopub.status.busy": "2024-03-19T21:41:44.833552Z",
     "iopub.status.idle": "2024-03-19T21:41:46.723434Z",
     "shell.execute_reply": "2024-03-19T21:41:46.722332Z"
    },
    "papermill": {
     "duration": 1.899019,
     "end_time": "2024-03-19T21:41:46.725796",
     "exception": false,
     "start_time": "2024-03-19T21:41:44.826777",
     "status": "completed"
    },
    "tags": []
   },
   "outputs": [
    {
     "data": {
      "image/png": "[encoded data removed]",
      "text/plain": [
       "<Figure size 1000x1000 with 9 Axes>"
      ]
     },
     "metadata": {},
     "output_type": "display_data"
    }
   ],
   "source": [
    "sample_images, sample_labels = next(train_generator)\n",
    "\n",
    "plt.figure(figsize=(10, 10))\n",
    "for i in range(9):  # Plot 9 sample images\n",
    "    plt.subplot(3, 3, i + 1)\n",
    "    plt.imshow((sample_images[i] * 255).astype(np.uint8))  # Rescale pixel values to [0, 255]\n",
    "    plt.title(class_names[np.argmax(sample_labels[i])])\n",
    "    plt.axis(\"off\")\n",
    "plt.tight_layout()\n",
    "plt.show()"
   ]
  },
  {
   "cell_type": "markdown",
   "id": "a5cf73e6",
   "metadata": {
    "papermill": {
     "duration": 0.006279,
     "end_time": "2024-03-19T21:41:46.738547",
     "exception": false,
     "start_time": "2024-03-19T21:41:46.732268",
     "status": "completed"
    },
    "tags": []
   },
   "source": [
    "# ResNet Architecture"
   ]
  },
  {
   "cell_type": "code",
   "execution_count": 7,
   "id": "de837a4b",
   "metadata": {
    "execution": {
     "iopub.execute_input": "2024-03-19T21:41:46.753436Z",
     "iopub.status.busy": "2024-03-19T21:41:46.752999Z",
     "iopub.status.idle": "2024-03-19T21:41:46.771611Z",
     "shell.execute_reply": "2024-03-19T21:41:46.770172Z"
    },
    "papermill": {
     "duration": 0.029325,
     "end_time": "2024-03-19T21:41:46.774223",
     "exception": false,
     "start_time": "2024-03-19T21:41:46.744898",
     "status": "completed"
    },
    "tags": []
   },
   "outputs": [],
   "source": [
    "import tensorflow as tf\n",
    "from tensorflow.keras.applications import ResNet50\n",
    "from tensorflow.keras.models import Sequential\n",
    "from tensorflow.keras.layers import Dense, Flatten\n",
    "from tensorflow import keras"
   ]
  },
  {
   "cell_type": "code",
   "execution_count": 8,
   "id": "076f8317",
   "metadata": {
    "execution": {
     "iopub.execute_input": "2024-03-19T21:41:46.789310Z",
     "iopub.status.busy": "2024-03-19T21:41:46.788905Z",
     "iopub.status.idle": "2024-03-19T21:41:49.293901Z",
     "shell.execute_reply": "2024-03-19T21:41:49.292894Z"
    },
    "papermill": {
     "duration": 2.515362,
     "end_time": "2024-03-19T21:41:49.296420",
     "exception": false,
     "start_time": "2024-03-19T21:41:46.781058",
     "status": "completed"
    },
    "tags": []
   },
   "outputs": [
    {
     "name": "stdout",
     "output_type": "stream",
     "text": [
      "Downloading data from https://storage.googleapis.com/tensorflow/keras-applications/resnet/resnet50_weights_tf_dim_ordering_tf_kernels_notop.h5\n",
      "\u001b[1m94765736/94765736\u001b[0m \u001b[32m━━━━━━━━━━━━━━━━━━━━\u001b[0m\u001b[37m\u001b[0m \u001b[1m1s\u001b[0m 0us/step\n"
     ]
    }
   ],
   "source": [
    "resnet = ResNet50(weights='imagenet', include_top=False, input_shape=(image_height, image_width, 3))"
   ]
  },
  {
   "cell_type": "code",
   "execution_count": 9,
   "id": "41ed8423",
   "metadata": {
    "execution": {
     "iopub.execute_input": "2024-03-19T21:41:49.313495Z",
     "iopub.status.busy": "2024-03-19T21:41:49.312826Z",
     "iopub.status.idle": "2024-03-19T21:41:49.321789Z",
     "shell.execute_reply": "2024-03-19T21:41:49.320838Z"
    },
    "papermill": {
     "duration": 0.020254,
     "end_time": "2024-03-19T21:41:49.324132",
     "exception": false,
     "start_time": "2024-03-19T21:41:49.303878",
     "status": "completed"
    },
    "tags": []
   },
   "outputs": [],
   "source": [
    "for layer in resnet.layers:\n",
    "    layer.trainable = False"
   ]
  },
  {
   "cell_type": "code",
   "execution_count": 10,
   "id": "b5cd7e81",
   "metadata": {
    "execution": {
     "iopub.execute_input": "2024-03-19T21:41:49.342358Z",
     "iopub.status.busy": "2024-03-19T21:41:49.341925Z",
     "iopub.status.idle": "2024-03-19T21:41:49.465648Z",
     "shell.execute_reply": "2024-03-19T21:41:49.464544Z"
    },
    "papermill": {
     "duration": 0.135274,
     "end_time": "2024-03-19T21:41:49.468229",
     "exception": false,
     "start_time": "2024-03-19T21:41:49.332955",
     "status": "completed"
    },
    "tags": []
   },
   "outputs": [],
   "source": [
    "model = Sequential()\n",
    "# Input layer for your resized images\n",
    "model.add(tf.keras.layers.Input(shape=(48, 48, 3))) \n",
    "# Resize images\n",
    "model.add(tf.keras.layers.Lambda(lambda image: tf.image.resize(image, (image_height, image_width))))  \n",
    "# Add resnet model\n",
    "model.add(resnet)\n",
    "# Flatten the output of the resnet model\n",
    "model.add(Flatten())\n",
    "# Add custom dense layers\n",
    "model.add(Dense(64, activation='tanh'))\n",
    "model.add(Dense(128, activation='tanh'))\n",
    "model.add(Dense(256, activation='tanh'))\n",
    "model.add(Dropout(0.5))  # Dropout layer with 50% dropout rate\n",
    "model.add(Dense(6, activation='softmax'))  # 6 classes for your dataset"
   ]
  },
  {
   "cell_type": "code",
   "execution_count": 11,
   "id": "fc971d34",
   "metadata": {
    "execution": {
     "iopub.execute_input": "2024-03-19T21:41:49.485110Z",
     "iopub.status.busy": "2024-03-19T21:41:49.484692Z",
     "iopub.status.idle": "2024-03-19T21:41:49.501403Z",
     "shell.execute_reply": "2024-03-19T21:41:49.500455Z"
    },
    "papermill": {
     "duration": 0.027841,
     "end_time": "2024-03-19T21:41:49.503799",
     "exception": false,
     "start_time": "2024-03-19T21:41:49.475958",
     "status": "completed"
    },
    "tags": []
   },
   "outputs": [],
   "source": [
    "model.compile(optimizer='adam', loss='categorical_crossentropy', metrics=['accuracy'])"
   ]
  },
  {
   "cell_type": "code",
   "execution_count": 12,
   "id": "9db4650f",
   "metadata": {
    "execution": {
     "iopub.execute_input": "2024-03-19T21:41:49.521245Z",
     "iopub.status.busy": "2024-03-19T21:41:49.520114Z",
     "iopub.status.idle": "2024-03-19T21:41:49.556210Z",
     "shell.execute_reply": "2024-03-19T21:41:49.555403Z"
    },
    "papermill": {
     "duration": 0.046887,
     "end_time": "2024-03-19T21:41:49.558339",
     "exception": false,
     "start_time": "2024-03-19T21:41:49.511452",
     "status": "completed"
    },
    "tags": []
   },
   "outputs": [
    {
     "data": {
      "text/html": [
       "<pre style=\"white-space:pre;overflow-x:auto;line-height:normal;font-family:Menlo,'DejaVu Sans Mono',consolas,'Courier New',monospace\"><span style=\"font-weight: bold\">Model: \"sequential\"</span>\n",
       "</pre>\n"
      ],
      "text/plain": [
       "\u001b[1mModel: \"sequential\"\u001b[0m\n"
      ]
     },
     "metadata": {},
     "output_type": "display_data"
    },
    {
     "data": {
      "text/html": [
       "<pre style=\"white-space:pre;overflow-x:auto;line-height:normal;font-family:Menlo,'DejaVu Sans Mono',consolas,'Courier New',monospace\">┏━━━━━━━━━━━━━━━━━━━━━━━━━━━━━━━━━┳━━━━━━━━━━━━━━━━━━━━━━━━┳━━━━━━━━━━━━━━━┓\n",
       "┃<span style=\"font-weight: bold\"> Layer (type)                    </span>┃<span style=\"font-weight: bold\"> Output Shape           </span>┃<span style=\"font-weight: bold\">       Param # </span>┃\n",
       "┡━━━━━━━━━━━━━━━━━━━━━━━━━━━━━━━━━╇━━━━━━━━━━━━━━━━━━━━━━━━╇━━━━━━━━━━━━━━━┩\n",
       "│ lambda (<span style=\"color: #0087ff; text-decoration-color: #0087ff\">Lambda</span>)                 │ (<span style=\"color: #00d7ff; text-decoration-color: #00d7ff\">None</span>, <span style=\"color: #00af00; text-decoration-color: #00af00\">48</span>, <span style=\"color: #00af00; text-decoration-color: #00af00\">48</span>, <span style=\"color: #00af00; text-decoration-color: #00af00\">3</span>)      │             <span style=\"color: #00af00; text-decoration-color: #00af00\">0</span> │\n",
       "├─────────────────────────────────┼────────────────────────┼───────────────┤\n",
       "│ resnet50 (<span style=\"color: #0087ff; text-decoration-color: #0087ff\">Functional</span>)           │ (<span style=\"color: #00d7ff; text-decoration-color: #00d7ff\">None</span>, <span style=\"color: #00af00; text-decoration-color: #00af00\">2</span>, <span style=\"color: #00af00; text-decoration-color: #00af00\">2</span>, <span style=\"color: #00af00; text-decoration-color: #00af00\">2048</span>)     │    <span style=\"color: #00af00; text-decoration-color: #00af00\">23,587,712</span> │\n",
       "├─────────────────────────────────┼────────────────────────┼───────────────┤\n",
       "│ flatten (<span style=\"color: #0087ff; text-decoration-color: #0087ff\">Flatten</span>)               │ (<span style=\"color: #00d7ff; text-decoration-color: #00d7ff\">None</span>, <span style=\"color: #00af00; text-decoration-color: #00af00\">8192</span>)           │             <span style=\"color: #00af00; text-decoration-color: #00af00\">0</span> │\n",
       "├─────────────────────────────────┼────────────────────────┼───────────────┤\n",
       "│ dense (<span style=\"color: #0087ff; text-decoration-color: #0087ff\">Dense</span>)                   │ (<span style=\"color: #00d7ff; text-decoration-color: #00d7ff\">None</span>, <span style=\"color: #00af00; text-decoration-color: #00af00\">64</span>)             │       <span style=\"color: #00af00; text-decoration-color: #00af00\">524,352</span> │\n",
       "├─────────────────────────────────┼────────────────────────┼───────────────┤\n",
       "│ dense_1 (<span style=\"color: #0087ff; text-decoration-color: #0087ff\">Dense</span>)                 │ (<span style=\"color: #00d7ff; text-decoration-color: #00d7ff\">None</span>, <span style=\"color: #00af00; text-decoration-color: #00af00\">128</span>)            │         <span style=\"color: #00af00; text-decoration-color: #00af00\">8,320</span> │\n",
       "├─────────────────────────────────┼────────────────────────┼───────────────┤\n",
       "│ dense_2 (<span style=\"color: #0087ff; text-decoration-color: #0087ff\">Dense</span>)                 │ (<span style=\"color: #00d7ff; text-decoration-color: #00d7ff\">None</span>, <span style=\"color: #00af00; text-decoration-color: #00af00\">256</span>)            │        <span style=\"color: #00af00; text-decoration-color: #00af00\">33,024</span> │\n",
       "├─────────────────────────────────┼────────────────────────┼───────────────┤\n",
       "│ dropout (<span style=\"color: #0087ff; text-decoration-color: #0087ff\">Dropout</span>)               │ (<span style=\"color: #00d7ff; text-decoration-color: #00d7ff\">None</span>, <span style=\"color: #00af00; text-decoration-color: #00af00\">256</span>)            │             <span style=\"color: #00af00; text-decoration-color: #00af00\">0</span> │\n",
       "├─────────────────────────────────┼────────────────────────┼───────────────┤\n",
       "│ dense_3 (<span style=\"color: #0087ff; text-decoration-color: #0087ff\">Dense</span>)                 │ (<span style=\"color: #00d7ff; text-decoration-color: #00d7ff\">None</span>, <span style=\"color: #00af00; text-decoration-color: #00af00\">6</span>)              │         <span style=\"color: #00af00; text-decoration-color: #00af00\">1,542</span> │\n",
       "└─────────────────────────────────┴────────────────────────┴───────────────┘\n",
       "</pre>\n"
      ],
      "text/plain": [
       "┏━━━━━━━━━━━━━━━━━━━━━━━━━━━━━━━━━┳━━━━━━━━━━━━━━━━━━━━━━━━┳━━━━━━━━━━━━━━━┓\n",
       "┃\u001b[1m \u001b[0m\u001b[1mLayer (type)                   \u001b[0m\u001b[1m \u001b[0m┃\u001b[1m \u001b[0m\u001b[1mOutput Shape          \u001b[0m\u001b[1m \u001b[0m┃\u001b[1m \u001b[0m\u001b[1m      Param #\u001b[0m\u001b[1m \u001b[0m┃\n",
       "┡━━━━━━━━━━━━━━━━━━━━━━━━━━━━━━━━━╇━━━━━━━━━━━━━━━━━━━━━━━━╇━━━━━━━━━━━━━━━┩\n",
       "│ lambda (\u001b[38;5;33mLambda\u001b[0m)                 │ (\u001b[38;5;45mNone\u001b[0m, \u001b[38;5;34m48\u001b[0m, \u001b[38;5;34m48\u001b[0m, \u001b[38;5;34m3\u001b[0m)      │             \u001b[38;5;34m0\u001b[0m │\n",
       "├─────────────────────────────────┼────────────────────────┼───────────────┤\n",
       "│ resnet50 (\u001b[38;5;33mFunctional\u001b[0m)           │ (\u001b[38;5;45mNone\u001b[0m, \u001b[38;5;34m2\u001b[0m, \u001b[38;5;34m2\u001b[0m, \u001b[38;5;34m2048\u001b[0m)     │    \u001b[38;5;34m23,587,712\u001b[0m │\n",
       "├─────────────────────────────────┼────────────────────────┼───────────────┤\n",
       "│ flatten (\u001b[38;5;33mFlatten\u001b[0m)               │ (\u001b[38;5;45mNone\u001b[0m, \u001b[38;5;34m8192\u001b[0m)           │             \u001b[38;5;34m0\u001b[0m │\n",
       "├─────────────────────────────────┼────────────────────────┼───────────────┤\n",
       "│ dense (\u001b[38;5;33mDense\u001b[0m)                   │ (\u001b[38;5;45mNone\u001b[0m, \u001b[38;5;34m64\u001b[0m)             │       \u001b[38;5;34m524,352\u001b[0m │\n",
       "├─────────────────────────────────┼────────────────────────┼───────────────┤\n",
       "│ dense_1 (\u001b[38;5;33mDense\u001b[0m)                 │ (\u001b[38;5;45mNone\u001b[0m, \u001b[38;5;34m128\u001b[0m)            │         \u001b[38;5;34m8,320\u001b[0m │\n",
       "├─────────────────────────────────┼────────────────────────┼───────────────┤\n",
       "│ dense_2 (\u001b[38;5;33mDense\u001b[0m)                 │ (\u001b[38;5;45mNone\u001b[0m, \u001b[38;5;34m256\u001b[0m)            │        \u001b[38;5;34m33,024\u001b[0m │\n",
       "├─────────────────────────────────┼────────────────────────┼───────────────┤\n",
       "│ dropout (\u001b[38;5;33mDropout\u001b[0m)               │ (\u001b[38;5;45mNone\u001b[0m, \u001b[38;5;34m256\u001b[0m)            │             \u001b[38;5;34m0\u001b[0m │\n",
       "├─────────────────────────────────┼────────────────────────┼───────────────┤\n",
       "│ dense_3 (\u001b[38;5;33mDense\u001b[0m)                 │ (\u001b[38;5;45mNone\u001b[0m, \u001b[38;5;34m6\u001b[0m)              │         \u001b[38;5;34m1,542\u001b[0m │\n",
       "└─────────────────────────────────┴────────────────────────┴───────────────┘\n"
      ]
     },
     "metadata": {},
     "output_type": "display_data"
    },
    {
     "data": {
      "text/html": [
       "<pre style=\"white-space:pre;overflow-x:auto;line-height:normal;font-family:Menlo,'DejaVu Sans Mono',consolas,'Courier New',monospace\"><span style=\"font-weight: bold\"> Total params: </span><span style=\"color: #00af00; text-decoration-color: #00af00\">24,154,950</span> (92.14 MB)\n",
       "</pre>\n"
      ],
      "text/plain": [
       "\u001b[1m Total params: \u001b[0m\u001b[38;5;34m24,154,950\u001b[0m (92.14 MB)\n"
      ]
     },
     "metadata": {},
     "output_type": "display_data"
    },
    {
     "data": {
      "text/html": [
       "<pre style=\"white-space:pre;overflow-x:auto;line-height:normal;font-family:Menlo,'DejaVu Sans Mono',consolas,'Courier New',monospace\"><span style=\"font-weight: bold\"> Trainable params: </span><span style=\"color: #00af00; text-decoration-color: #00af00\">567,238</span> (2.16 MB)\n",
       "</pre>\n"
      ],
      "text/plain": [
       "\u001b[1m Trainable params: \u001b[0m\u001b[38;5;34m567,238\u001b[0m (2.16 MB)\n"
      ]
     },
     "metadata": {},
     "output_type": "display_data"
    },
    {
     "data": {
      "text/html": [
       "<pre style=\"white-space:pre;overflow-x:auto;line-height:normal;font-family:Menlo,'DejaVu Sans Mono',consolas,'Courier New',monospace\"><span style=\"font-weight: bold\"> Non-trainable params: </span><span style=\"color: #00af00; text-decoration-color: #00af00\">23,587,712</span> (89.98 MB)\n",
       "</pre>\n"
      ],
      "text/plain": [
       "\u001b[1m Non-trainable params: \u001b[0m\u001b[38;5;34m23,587,712\u001b[0m (89.98 MB)\n"
      ]
     },
     "metadata": {},
     "output_type": "display_data"
    }
   ],
   "source": [
    "model.summary()"
   ]
  },
  {
   "cell_type": "code",
   "execution_count": null,
   "id": "8a5328ca",
   "metadata": {
    "execution": {
     "iopub.execute_input": "2024-03-19T21:41:49.577519Z",
     "iopub.status.busy": "2024-03-19T21:41:49.576861Z",
     "iopub.status.idle": "2024-03-20T00:10:49.205065Z",
     "shell.execute_reply": "2024-03-20T00:10:49.203966Z"
    },
    "papermill": {
     "duration": 8940.404353,
     "end_time": "2024-03-20T00:10:49.971333",
     "exception": false,
     "start_time": "2024-03-19T21:41:49.566980",
     "status": "completed"
    },
    "tags": []
   },
   "outputs": [],
   "source": [
    "epochs = 50\n",
    "\n",
    "history = model.fit(\n",
    "    train_generator,\n",
    "    epochs=epochs,\n",
    "    validation_data=validation_generator,\n",
    "    verbose=1\n",
    ")"
   ]
  },
  {
   "cell_type": "markdown",
   "id": "dab7c35f",
   "metadata": {
    "papermill": {
     "duration": 0.856255,
     "end_time": "2024-03-20T00:10:51.583647",
     "exception": false,
     "start_time": "2024-03-20T00:10:50.727392",
     "status": "completed"
    },
    "tags": []
   },
   "source": [
    "### Predicting with random images"
   ]
  },
  {
   "cell_type": "code",
   "execution_count": 14,
   "id": "9cc1a3c0",
   "metadata": {
    "execution": {
     "iopub.execute_input": "2024-03-20T00:10:53.159041Z",
     "iopub.status.busy": "2024-03-20T00:10:53.158057Z",
     "iopub.status.idle": "2024-03-20T00:10:53.163189Z",
     "shell.execute_reply": "2024-03-20T00:10:53.162153Z"
    },
    "papermill": {
     "duration": 0.824759,
     "end_time": "2024-03-20T00:10:53.165661",
     "exception": false,
     "start_time": "2024-03-20T00:10:52.340902",
     "status": "completed"
    },
    "tags": []
   },
   "outputs": [],
   "source": [
    "from tensorflow.keras.preprocessing import image"
   ]
  },
  {
   "cell_type": "code",
   "execution_count": 15,
   "id": "ff09ed94",
   "metadata": {
    "execution": {
     "iopub.execute_input": "2024-03-20T00:10:54.777666Z",
     "iopub.status.busy": "2024-03-20T00:10:54.777281Z",
     "iopub.status.idle": "2024-03-20T00:10:57.367264Z",
     "shell.execute_reply": "2024-03-20T00:10:57.366075Z"
    },
    "papermill": {
     "duration": 3.345274,
     "end_time": "2024-03-20T00:10:57.370838",
     "exception": false,
     "start_time": "2024-03-20T00:10:54.025564",
     "status": "completed"
    },
    "tags": []
   },
   "outputs": [
    {
     "name": "stdout",
     "output_type": "stream",
     "text": [
      "\u001b[1m1/1\u001b[0m \u001b[32m━━━━━━━━━━━━━━━━━━━━\u001b[0m\u001b[37m\u001b[0m \u001b[1m2s\u001b[0m 2s/step\n",
      "[[0.74734896 0.04896756 0.01953176 0.06040783 0.1210543  0.0026896 ]]\n",
      "Predicted class: 0\n"
     ]
    },
    {
     "data": {
      "image/png": "[encoded data removed]",
      "text/plain": [
       "<Figure size 640x480 with 1 Axes>"
      ]
     },
     "metadata": {},
     "output_type": "display_data"
    }
   ],
   "source": [
    "uploaded_image_path = '/kaggle/input/test-images-dl2/test_image_06.jpg'\n",
    "\n",
    "img = image.load_img(uploaded_image_path, target_size=(48, 48))\n",
    "img_array = image.img_to_array(img)\n",
    "img_array = np.expand_dims(img_array, axis=0)\n",
    "img_array = img_array / 255.0 \n",
    "\n",
    "# Make predictions\n",
    "predictions = model.predict(img_array)\n",
    "print(predictions)\n",
    "\n",
    "# Get the predicted class label\n",
    "predicted_class = np.argmax(predictions)\n",
    "\n",
    "# Print the predicted class label\n",
    "print(\"Predicted class:\", predicted_class)\n",
    "\n",
    "predicted_class_index = np.argmax(predictions)\n",
    "predicted_class_name = class_names[predicted_class_index]\n",
    "plt.imshow(img)\n",
    "plt.axis('off')\n",
    "plt.title(f'Predicted Class: {predicted_class_name}')\n",
    "plt.show()\n",
    "\n",
    "# ['angry', 'fearful', 'happy', 'neutral', 'sad', 'surprised']"
   ]
  },
  {
   "cell_type": "code",
   "execution_count": null,
   "id": "1ee26b24",
   "metadata": {
    "papermill": {
     "duration": 0.857492,
     "end_time": "2024-03-20T00:10:59.014196",
     "exception": false,
     "start_time": "2024-03-20T00:10:58.156704",
     "status": "completed"
    },
    "tags": []
   },
   "outputs": [],
   "source": []
  }
 ],
 "metadata": {
  "kaggle": {
   "accelerator": "none",
   "dataSources": [
    {
     "datasetId": 4593712,
     "sourceId": 7837817,
     "sourceType": "datasetVersion"
    },
    {
     "datasetId": 4624808,
     "sourceId": 7880073,
     "sourceType": "datasetVersion"
    },
    {
     "modelInstanceId": 846,
     "sourceId": 992,
     "sourceType": "modelInstanceVersion"
    }
   ],
   "dockerImageVersionId": 30665,
   "isGpuEnabled": false,
   "isInternetEnabled": true,
   "language": "python",
   "sourceType": "notebook"
  },
  "kernelspec": {
   "display_name": "Python 3",
   "language": "python",
   "name": "python3"
  },
  "language_info": {
   "codemirror_mode": {
    "name": "ipython",
    "version": 3
   },
   "file_extension": ".py",
   "mimetype": "text/x-python",
   "name": "python",
   "nbconvert_exporter": "python",
   "pygments_lexer": "ipython3",
   "version": "3.10.13"
  },
  "papermill": {
   "default_parameters": {},
   "duration": 9026.385758,
   "end_time": "2024-03-20T00:11:02.591994",
   "environment_variables": {},
   "exception": null,
   "input_path": "__notebook__.ipynb",
   "output_path": "__notebook__.ipynb",
   "parameters": {},
   "start_time": "2024-03-19T21:40:36.206236",
   "version": "2.5.0"
  }
 },
 "nbformat": 4,
 "nbformat_minor": 5
}
